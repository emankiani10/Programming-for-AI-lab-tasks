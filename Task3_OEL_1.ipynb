{
 "cells": [
  {
   "cell_type": "code",
   "execution_count": 19,
   "id": "12ed0e34",
   "metadata": {},
   "outputs": [
    {
     "name": "stderr",
     "output_type": "stream",
     "text": [
      "Warning message:\n",
      "\"package 'readr' is in use and will not be installed\"\n",
      "Warning message:\n",
      "\"package 'readxl' is in use and will not be installed\"\n"
     ]
    }
   ],
   "source": [
    "# Load necessary libraries\n",
    "install.packages(\"readr\")  # If not installed\n",
    "library(readr)\n",
    "\n",
    "install.packages(\"readxl\")"
   ]
  },
  {
   "cell_type": "code",
   "execution_count": 20,
   "id": "5418ea48",
   "metadata": {},
   "outputs": [
    {
     "data": {
      "text/html": [
       "<table class=\"dataframe\">\n",
       "<caption>A tibble: 6 × 8</caption>\n",
       "<thead>\n",
       "\t<tr><th scope=col>Invoice</th><th scope=col>StockCode</th><th scope=col>Description</th><th scope=col>Quantity</th><th scope=col>InvoiceDate</th><th scope=col>Price</th><th scope=col>Customer ID</th><th scope=col>Country</th></tr>\n",
       "\t<tr><th scope=col>&lt;chr&gt;</th><th scope=col>&lt;chr&gt;</th><th scope=col>&lt;chr&gt;</th><th scope=col>&lt;dbl&gt;</th><th scope=col>&lt;dttm&gt;</th><th scope=col>&lt;dbl&gt;</th><th scope=col>&lt;dbl&gt;</th><th scope=col>&lt;chr&gt;</th></tr>\n",
       "</thead>\n",
       "<tbody>\n",
       "\t<tr><td>489434</td><td>85048 </td><td>15CM CHRISTMAS GLASS BALL 20 LIGHTS</td><td>12</td><td>2009-12-01 07:45:00</td><td>6.95</td><td>13085</td><td>United Kingdom</td></tr>\n",
       "\t<tr><td>489434</td><td>79323P</td><td>PINK CHERRY LIGHTS                 </td><td>12</td><td>2009-12-01 07:45:00</td><td>6.75</td><td>13085</td><td>United Kingdom</td></tr>\n",
       "\t<tr><td>489434</td><td>79323W</td><td>WHITE CHERRY LIGHTS                </td><td>12</td><td>2009-12-01 07:45:00</td><td>6.75</td><td>13085</td><td>United Kingdom</td></tr>\n",
       "\t<tr><td>489434</td><td>22041 </td><td>RECORD FRAME 7\" SINGLE SIZE        </td><td>48</td><td>2009-12-01 07:45:00</td><td>2.10</td><td>13085</td><td>United Kingdom</td></tr>\n",
       "\t<tr><td>489434</td><td>21232 </td><td>STRAWBERRY CERAMIC TRINKET BOX     </td><td>24</td><td>2009-12-01 07:45:00</td><td>1.25</td><td>13085</td><td>United Kingdom</td></tr>\n",
       "\t<tr><td>489434</td><td>22064 </td><td>PINK DOUGHNUT TRINKET POT          </td><td>24</td><td>2009-12-01 07:45:00</td><td>1.65</td><td>13085</td><td>United Kingdom</td></tr>\n",
       "</tbody>\n",
       "</table>\n"
      ],
      "text/latex": [
       "A tibble: 6 × 8\n",
       "\\begin{tabular}{llllllll}\n",
       " Invoice & StockCode & Description & Quantity & InvoiceDate & Price & Customer ID & Country\\\\\n",
       " <chr> & <chr> & <chr> & <dbl> & <dttm> & <dbl> & <dbl> & <chr>\\\\\n",
       "\\hline\n",
       "\t 489434 & 85048  & 15CM CHRISTMAS GLASS BALL 20 LIGHTS & 12 & 2009-12-01 07:45:00 & 6.95 & 13085 & United Kingdom\\\\\n",
       "\t 489434 & 79323P & PINK CHERRY LIGHTS                  & 12 & 2009-12-01 07:45:00 & 6.75 & 13085 & United Kingdom\\\\\n",
       "\t 489434 & 79323W & WHITE CHERRY LIGHTS                 & 12 & 2009-12-01 07:45:00 & 6.75 & 13085 & United Kingdom\\\\\n",
       "\t 489434 & 22041  & RECORD FRAME 7\" SINGLE SIZE         & 48 & 2009-12-01 07:45:00 & 2.10 & 13085 & United Kingdom\\\\\n",
       "\t 489434 & 21232  & STRAWBERRY CERAMIC TRINKET BOX      & 24 & 2009-12-01 07:45:00 & 1.25 & 13085 & United Kingdom\\\\\n",
       "\t 489434 & 22064  & PINK DOUGHNUT TRINKET POT           & 24 & 2009-12-01 07:45:00 & 1.65 & 13085 & United Kingdom\\\\\n",
       "\\end{tabular}\n"
      ],
      "text/markdown": [
       "\n",
       "A tibble: 6 × 8\n",
       "\n",
       "| Invoice &lt;chr&gt; | StockCode &lt;chr&gt; | Description &lt;chr&gt; | Quantity &lt;dbl&gt; | InvoiceDate &lt;dttm&gt; | Price &lt;dbl&gt; | Customer ID &lt;dbl&gt; | Country &lt;chr&gt; |\n",
       "|---|---|---|---|---|---|---|---|\n",
       "| 489434 | 85048  | 15CM CHRISTMAS GLASS BALL 20 LIGHTS | 12 | 2009-12-01 07:45:00 | 6.95 | 13085 | United Kingdom |\n",
       "| 489434 | 79323P | PINK CHERRY LIGHTS                  | 12 | 2009-12-01 07:45:00 | 6.75 | 13085 | United Kingdom |\n",
       "| 489434 | 79323W | WHITE CHERRY LIGHTS                 | 12 | 2009-12-01 07:45:00 | 6.75 | 13085 | United Kingdom |\n",
       "| 489434 | 22041  | RECORD FRAME 7\" SINGLE SIZE         | 48 | 2009-12-01 07:45:00 | 2.10 | 13085 | United Kingdom |\n",
       "| 489434 | 21232  | STRAWBERRY CERAMIC TRINKET BOX      | 24 | 2009-12-01 07:45:00 | 1.25 | 13085 | United Kingdom |\n",
       "| 489434 | 22064  | PINK DOUGHNUT TRINKET POT           | 24 | 2009-12-01 07:45:00 | 1.65 | 13085 | United Kingdom |\n",
       "\n"
      ],
      "text/plain": [
       "  Invoice StockCode Description                         Quantity\n",
       "1 489434  85048     15CM CHRISTMAS GLASS BALL 20 LIGHTS 12      \n",
       "2 489434  79323P    PINK CHERRY LIGHTS                  12      \n",
       "3 489434  79323W    WHITE CHERRY LIGHTS                 12      \n",
       "4 489434  22041     RECORD FRAME 7\" SINGLE SIZE         48      \n",
       "5 489434  21232     STRAWBERRY CERAMIC TRINKET BOX      24      \n",
       "6 489434  22064     PINK DOUGHNUT TRINKET POT           24      \n",
       "  InvoiceDate         Price Customer ID Country       \n",
       "1 2009-12-01 07:45:00 6.95  13085       United Kingdom\n",
       "2 2009-12-01 07:45:00 6.75  13085       United Kingdom\n",
       "3 2009-12-01 07:45:00 6.75  13085       United Kingdom\n",
       "4 2009-12-01 07:45:00 2.10  13085       United Kingdom\n",
       "5 2009-12-01 07:45:00 1.25  13085       United Kingdom\n",
       "6 2009-12-01 07:45:00 1.65  13085       United Kingdom"
      ]
     },
     "metadata": {},
     "output_type": "display_data"
    }
   ],
   "source": [
    "library(readxl)\n",
    "\n",
    "data <- read_excel(\"C:\\\\Users\\\\Eman Asghar\\\\Desktop\\\\online_retail.xlsx\", sheet = 1)\n",
    "head(data)\n"
   ]
  },
  {
   "cell_type": "code",
   "execution_count": 25,
   "id": "b0250887",
   "metadata": {},
   "outputs": [
    {
     "data": {
      "text/html": [
       "<style>\n",
       ".dl-inline {width: auto; margin:0; padding: 0}\n",
       ".dl-inline>dt, .dl-inline>dd {float: none; width: auto; display: inline-block}\n",
       ".dl-inline>dt::after {content: \":\\0020\"; padding-right: .5ex}\n",
       ".dl-inline>dt:not(:first-of-type) {padding-left: .5ex}\n",
       "</style><dl class=dl-inline><dt>Invoice</dt><dd>0</dd><dt>StockCode</dt><dd>0</dd><dt>Description</dt><dd>2928</dd><dt>Quantity</dt><dd>0</dd><dt>InvoiceDate</dt><dd>0</dd><dt>Price</dt><dd>0</dd><dt>Customer ID</dt><dd>107927</dd><dt>Country</dt><dd>0</dd></dl>\n"
      ],
      "text/latex": [
       "\\begin{description*}\n",
       "\\item[Invoice] 0\n",
       "\\item[StockCode] 0\n",
       "\\item[Description] 2928\n",
       "\\item[Quantity] 0\n",
       "\\item[InvoiceDate] 0\n",
       "\\item[Price] 0\n",
       "\\item[Customer ID] 107927\n",
       "\\item[Country] 0\n",
       "\\end{description*}\n"
      ],
      "text/markdown": [
       "Invoice\n",
       ":   0StockCode\n",
       ":   0Description\n",
       ":   2928Quantity\n",
       ":   0InvoiceDate\n",
       ":   0Price\n",
       ":   0Customer ID\n",
       ":   107927Country\n",
       ":   0\n",
       "\n"
      ],
      "text/plain": [
       "    Invoice   StockCode Description    Quantity InvoiceDate       Price \n",
       "          0           0        2928           0           0           0 \n",
       "Customer ID     Country \n",
       "     107927           0 "
      ]
     },
     "metadata": {},
     "output_type": "display_data"
    }
   ],
   "source": [
    "# Check for missing values\n",
    "colSums(is.na(data))\n",
    "\n",
    "# Remove rows with missing CustomerID\n",
    "data <- na.omit(data[!is.na(data$'Customer ID'), ])"
   ]
  },
  {
   "cell_type": "code",
   "execution_count": 27,
   "id": "bcd9555d",
   "metadata": {},
   "outputs": [
    {
     "data": {
      "text/html": [
       "<style>\n",
       ".dl-inline {width: auto; margin:0; padding: 0}\n",
       ".dl-inline>dt, .dl-inline>dd {float: none; width: auto; display: inline-block}\n",
       ".dl-inline>dt::after {content: \":\\0020\"; padding-right: .5ex}\n",
       ".dl-inline>dt:not(:first-of-type) {padding-left: .5ex}\n",
       "</style><dl class=dl-inline><dt>Invoice</dt><dd>0</dd><dt>StockCode</dt><dd>0</dd><dt>Description</dt><dd>0</dd><dt>Quantity</dt><dd>0</dd><dt>InvoiceDate</dt><dd>0</dd><dt>Price</dt><dd>0</dd><dt>Customer ID</dt><dd>0</dd><dt>Country</dt><dd>0</dd></dl>\n"
      ],
      "text/latex": [
       "\\begin{description*}\n",
       "\\item[Invoice] 0\n",
       "\\item[StockCode] 0\n",
       "\\item[Description] 0\n",
       "\\item[Quantity] 0\n",
       "\\item[InvoiceDate] 0\n",
       "\\item[Price] 0\n",
       "\\item[Customer ID] 0\n",
       "\\item[Country] 0\n",
       "\\end{description*}\n"
      ],
      "text/markdown": [
       "Invoice\n",
       ":   0StockCode\n",
       ":   0Description\n",
       ":   0Quantity\n",
       ":   0InvoiceDate\n",
       ":   0Price\n",
       ":   0Customer ID\n",
       ":   0Country\n",
       ":   0\n",
       "\n"
      ],
      "text/plain": [
       "    Invoice   StockCode Description    Quantity InvoiceDate       Price \n",
       "          0           0           0           0           0           0 \n",
       "Customer ID     Country \n",
       "          0           0 "
      ]
     },
     "metadata": {},
     "output_type": "display_data"
    }
   ],
   "source": [
    "# Replace missing values in UnitPrice and Quantity with their median\n",
    "data$Price[is.na(data$Price)] <- median(data$Price, na.rm = TRUE)\n",
    "data$Quantity[is.na(data$Quantity)] <- median(data$Quantity, na.rm = TRUE)\n",
    "\n",
    "# Check for missing values after cleaning\n",
    "colSums(is.na(data))"
   ]
  },
  {
   "cell_type": "code",
   "execution_count": 28,
   "id": "7da8027c",
   "metadata": {},
   "outputs": [
    {
     "name": "stdout",
     "output_type": "stream",
     "text": [
      "tibble [417,534 × 8] (S3: tbl_df/tbl/data.frame)\n",
      " $ Invoice    : chr [1:417534] \"489434\" \"489434\" \"489434\" \"489434\" ...\n",
      " $ StockCode  : chr [1:417534] \"85048\" \"79323P\" \"79323W\" \"22041\" ...\n",
      " $ Description: chr [1:417534] \"15CM CHRISTMAS GLASS BALL 20 LIGHTS\" \"PINK CHERRY LIGHTS\" \"WHITE CHERRY LIGHTS\" \"RECORD FRAME 7\\\" SINGLE SIZE\" ...\n",
      " $ Quantity   : num [1:417534] 12 12 12 48 24 24 24 10 12 12 ...\n",
      " $ InvoiceDate: POSIXct[1:417534], format: \"2009-12-01 07:45:00\" \"2009-12-01 07:45:00\" ...\n",
      " $ Price      : num [1:417534] 6.95 6.75 6.75 2.1 1.25 1.65 1.25 5.95 2.55 3.75 ...\n",
      " $ Customer ID: num [1:417534] 13085 13085 13085 13085 13085 ...\n",
      " $ Country    : chr [1:417534] \"United Kingdom\" \"United Kingdom\" \"United Kingdom\" \"United Kingdom\" ...\n"
     ]
    }
   ],
   "source": [
    "# Save the cleaned dataset\n",
    "write.csv(data, \"C:/Users/Eman Asghar/Desktop/processed_online_retail.csv\", row.names = FALSE)\n",
    "\n",
    "# Display final dataset structure\n",
    "str(data)"
   ]
  },
  {
   "cell_type": "code",
   "execution_count": null,
   "id": "fa183023",
   "metadata": {},
   "outputs": [],
   "source": []
  }
 ],
 "metadata": {
  "kernelspec": {
   "display_name": "R",
   "language": "R",
   "name": "ir"
  },
  "language_info": {
   "codemirror_mode": "r",
   "file_extension": ".r",
   "mimetype": "text/x-r-source",
   "name": "R",
   "pygments_lexer": "r",
   "version": "4.4.3"
  }
 },
 "nbformat": 4,
 "nbformat_minor": 5
}
